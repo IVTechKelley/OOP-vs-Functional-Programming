{
 "cells": [
  {
   "cell_type": "markdown",
   "id": "e305f395",
   "metadata": {},
   "source": [
    "## Given an array of size N containing only 0s, 1s, and 2s; sort the array in ascending order."
   ]
  },
  {
   "cell_type": "markdown",
   "id": "359205e4",
   "metadata": {},
   "source": [
    "Example 1:\n",
    "\n",
    "Input: \n",
    "N = 5\n",
    "arr[]= {0 2 1 2 0}\n",
    "Output:\n",
    "0 0 1 2 2\n",
    "Explanation:\n",
    "0s 1s and 2s are segregated \n",
    "into ascending order."
   ]
  },
  {
   "cell_type": "code",
   "execution_count": 1,
   "id": "19e1a2bf",
   "metadata": {},
   "outputs": [
    {
     "data": {
      "text/plain": [
       "[0, 0, 1, 2, 2]"
      ]
     },
     "execution_count": 1,
     "metadata": {},
     "output_type": "execute_result"
    }
   ],
   "source": [
    "def sort012(arr,n):\n",
    "    low = 0\n",
    "    mid = 0\n",
    "    high = n-1\n",
    "    while mid <= high:\n",
    "        if arr[mid] == 0:\n",
    "            arr[mid] , arr[low] = arr[low] , arr[mid]\n",
    "            mid += 1\n",
    "            low += 1\n",
    "        elif arr[mid] == 1:\n",
    "            mid += 1\n",
    "        else:\n",
    "            arr[mid] , arr[high] = arr[high] , arr[mid]\n",
    "            high -= 1\n",
    "    return arr\n",
    "\n",
    "n = 5\n",
    "arr = [0, 2, 1, 2, 0] \n",
    "\n",
    "sort012(arr, n)"
   ]
  },
  {
   "cell_type": "markdown",
   "id": "9aa0c4d0",
   "metadata": {},
   "source": [
    "Example 2:\n",
    "\n",
    "Input: \n",
    "N = 3\n",
    "arr[] = {0 1 0}\n",
    "Output:\n",
    "0 0 1\n",
    "Explanation:\n",
    "0s 1s and 2s are segregated \n",
    "into ascending order."
   ]
  },
  {
   "cell_type": "code",
   "execution_count": 2,
   "id": "f8083d0f",
   "metadata": {},
   "outputs": [
    {
     "data": {
      "text/plain": [
       "[0, 0, 1]"
      ]
     },
     "execution_count": 2,
     "metadata": {},
     "output_type": "execute_result"
    }
   ],
   "source": [
    "def sort012(arr,n):\n",
    "    low = 0\n",
    "    mid = 0\n",
    "    high = n-1\n",
    "    while mid <= high:\n",
    "        if arr[mid] == 0:\n",
    "            arr[mid] , arr[low] = arr[low] , arr[mid]\n",
    "            mid += 1\n",
    "            low += 1\n",
    "        elif arr[mid] == 1:\n",
    "            mid += 1\n",
    "        else:\n",
    "            arr[mid] , arr[high] = arr[high] , arr[mid]\n",
    "            high -= 1\n",
    "    return arr\n",
    "\n",
    "n = 3\n",
    "arr = [0, 1, 0] \n",
    "sort012(arr, n)"
   ]
  },
  {
   "cell_type": "markdown",
   "id": "c398de08",
   "metadata": {},
   "source": [
    "## Given a sorted array of size N and an integer K, find the position(0-based indexing) at which K is present in the array using binary search."
   ]
  },
  {
   "cell_type": "markdown",
   "id": "7c57ee31",
   "metadata": {},
   "source": [
    "Example 1:\n",
    "\n",
    "Input:\n",
    "N = 5\n",
    "arr[] = {1 2 3 4 5} \n",
    "K = 4\n",
    "Output: 3\n",
    "Explanation: 4 appears at index 3."
   ]
  },
  {
   "cell_type": "code",
   "execution_count": 3,
   "id": "11a3b27b",
   "metadata": {},
   "outputs": [
    {
     "data": {
      "text/plain": [
       "3"
      ]
     },
     "execution_count": 3,
     "metadata": {},
     "output_type": "execute_result"
    }
   ],
   "source": [
    "def binary_search(arr, n, k):\n",
    "    if k not in arr:\n",
    "        return -1\n",
    "    index = 0\n",
    "    while len(arr) > 1:\n",
    "        if len(arr) % 2 != 0:\n",
    "            arr.append(0)\n",
    "\n",
    "        n = (len(arr) // 2)\n",
    "        left_half = arr[:n]\n",
    "        right_half = arr[n:]\n",
    "\n",
    "        if k in right_half:\n",
    "            index += len(left_half)\n",
    "            arr = right_half\n",
    "        else:\n",
    "            arr = left_half\n",
    "    return index\n",
    "\n",
    "\n",
    "n = 5\n",
    "k = 4\n",
    "arr = [1, 2, 3, 4, 5]\n",
    "\n",
    "binary_search(arr, n, k)"
   ]
  },
  {
   "cell_type": "markdown",
   "id": "86be1262",
   "metadata": {},
   "source": [
    "Example 2:\n",
    "\n",
    "Input:\n",
    "N = 5\n",
    "arr[] = {11 22 33 44 55} \n",
    "K = 445\n",
    "Output: -1\n",
    "Explanation: 445 is not present."
   ]
  },
  {
   "cell_type": "code",
   "execution_count": 4,
   "id": "37d53009",
   "metadata": {},
   "outputs": [
    {
     "data": {
      "text/plain": [
       "-1"
      ]
     },
     "execution_count": 4,
     "metadata": {},
     "output_type": "execute_result"
    }
   ],
   "source": [
    "def binary_search(arr, n, k):\n",
    "    if k not in arr:\n",
    "        return -1\n",
    "    index = 0\n",
    "    while len(arr) > 1:\n",
    "        if len(arr) % 2 != 0:\n",
    "            arr.append(0)\n",
    "\n",
    "        n = (len(arr) // 2)\n",
    "        left_half = arr[:n]\n",
    "        right_half = arr[n:]\n",
    "\n",
    "        if k in right_half:\n",
    "            index += len(left_half)\n",
    "            arr = right_half\n",
    "        else:\n",
    "            arr = left_half\n",
    "    return index\n",
    "\n",
    "\n",
    "n = 5\n",
    "k = 445\n",
    "arr = [11, 22, 33, 44, 55]\n",
    "\n",
    "binary_search(arr, n, k)"
   ]
  }
 ],
 "metadata": {
  "kernelspec": {
   "display_name": "Python 3 (ipykernel)",
   "language": "python",
   "name": "python3"
  },
  "language_info": {
   "codemirror_mode": {
    "name": "ipython",
    "version": 3
   },
   "file_extension": ".py",
   "mimetype": "text/x-python",
   "name": "python",
   "nbconvert_exporter": "python",
   "pygments_lexer": "ipython3",
   "version": "3.11.5"
  }
 },
 "nbformat": 4,
 "nbformat_minor": 5
}
